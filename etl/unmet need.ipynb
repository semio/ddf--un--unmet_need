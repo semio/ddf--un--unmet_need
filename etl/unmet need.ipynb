{
 "cells": [
  {
   "cell_type": "code",
   "execution_count": 1,
   "metadata": {
    "collapsed": true
   },
   "outputs": [],
   "source": [
    "import pandas as pd\n",
    "import numpy as np\n",
    "import os\n",
    "\n",
    "from ddf_utils.str import to_concept_id\n",
    "from ddf_utils.index import create_index_file"
   ]
  },
  {
   "cell_type": "code",
   "execution_count": 2,
   "metadata": {
    "collapsed": true
   },
   "outputs": [],
   "source": [
    "source = 'source/UNPD_WCU2015_Unmet_need_Country Data Survey-Based.xlsx'"
   ]
  },
  {
   "cell_type": "code",
   "execution_count": 17,
   "metadata": {
    "collapsed": false
   },
   "outputs": [],
   "source": [
    "data = pd.read_excel(source, na_values='..', skiprows=3)"
   ]
  },
  {
   "cell_type": "code",
   "execution_count": 18,
   "metadata": {
    "collapsed": true
   },
   "outputs": [],
   "source": [
    "data = data.iloc[:, :8]"
   ]
  },
  {
   "cell_type": "code",
   "execution_count": 19,
   "metadata": {
    "collapsed": false
   },
   "outputs": [
    {
     "data": {
      "text/html": [
       "<div>\n",
       "<table border=\"1\" class=\"dataframe\">\n",
       "  <thead>\n",
       "    <tr style=\"text-align: right;\">\n",
       "      <th></th>\n",
       "      <th>Country</th>\n",
       "      <th>ISO Code</th>\n",
       "      <th>Year(s)</th>\n",
       "      <th>Age</th>\n",
       "      <th>Unmet need</th>\n",
       "      <th>Unnamed: 5</th>\n",
       "      <th>Unnamed: 6</th>\n",
       "      <th>Source</th>\n",
       "    </tr>\n",
       "  </thead>\n",
       "  <tbody>\n",
       "    <tr>\n",
       "      <th>0</th>\n",
       "      <td>NaN</td>\n",
       "      <td>NaN</td>\n",
       "      <td>NaN</td>\n",
       "      <td>NaN</td>\n",
       "      <td>Total</td>\n",
       "      <td>Spacing</td>\n",
       "      <td>Limiting</td>\n",
       "      <td>NaN</td>\n",
       "    </tr>\n",
       "    <tr>\n",
       "      <th>1</th>\n",
       "      <td>Albania</td>\n",
       "      <td>8.0</td>\n",
       "      <td>2002</td>\n",
       "      <td>15-44</td>\n",
       "      <td>1.3</td>\n",
       "      <td>1</td>\n",
       "      <td>0.3</td>\n",
       "      <td>RHS</td>\n",
       "    </tr>\n",
       "    <tr>\n",
       "      <th>2</th>\n",
       "      <td>Albania</td>\n",
       "      <td>8.0</td>\n",
       "      <td>2008-2009</td>\n",
       "      <td>15-49</td>\n",
       "      <td>12.9</td>\n",
       "      <td>3.5</td>\n",
       "      <td>9.4</td>\n",
       "      <td>DHS</td>\n",
       "    </tr>\n",
       "    <tr>\n",
       "      <th>3</th>\n",
       "      <td>Algeria</td>\n",
       "      <td>12.0</td>\n",
       "      <td>2012</td>\n",
       "      <td>15-49</td>\n",
       "      <td>10.4</td>\n",
       "      <td>5.6</td>\n",
       "      <td>4.8</td>\n",
       "      <td>MICS</td>\n",
       "    </tr>\n",
       "    <tr>\n",
       "      <th>4</th>\n",
       "      <td>Armenia</td>\n",
       "      <td>51.0</td>\n",
       "      <td>2000</td>\n",
       "      <td>15-49</td>\n",
       "      <td>18.1</td>\n",
       "      <td>3.5</td>\n",
       "      <td>14.6</td>\n",
       "      <td>DHS</td>\n",
       "    </tr>\n",
       "  </tbody>\n",
       "</table>\n",
       "</div>"
      ],
      "text/plain": [
       "   Country  ISO Code    Year(s)    Age Unmet need Unnamed: 5 Unnamed: 6 Source\n",
       "0      NaN       NaN        NaN    NaN      Total    Spacing   Limiting    NaN\n",
       "1  Albania       8.0       2002  15-44        1.3          1        0.3    RHS\n",
       "2  Albania       8.0  2008-2009  15-49       12.9        3.5        9.4    DHS\n",
       "3  Algeria      12.0       2012  15-49       10.4        5.6        4.8   MICS\n",
       "4  Armenia      51.0       2000  15-49       18.1        3.5       14.6    DHS"
      ]
     },
     "execution_count": 19,
     "metadata": {},
     "output_type": "execute_result"
    }
   ],
   "source": [
    "data.head()"
   ]
  },
  {
   "cell_type": "code",
   "execution_count": 47,
   "metadata": {
    "collapsed": false
   },
   "outputs": [
    {
     "name": "stdout",
     "output_type": "stream",
     "text": [
      "Unmet need\n",
      "Unmet need Total\n",
      "Unnamed: 5\n",
      "Unmet need Spacing\n",
      "Unnamed: 6\n",
      "Unmet need Limiting\n"
     ]
    }
   ],
   "source": [
    "isnull = pd.isnull(data.ix[0])\n",
    "\n",
    "for i in range(len(data.ix[0])):\n",
    "    if not isnull.iloc[i]:\n",
    "        print(data.columns[i])\n",
    "        print('Unmet need ' + data.iloc[0, i])\n",
    "        data = data.rename(columns={data.columns[i]: ('Unmet need ' + data.iloc[0, i])})"
   ]
  },
  {
   "cell_type": "code",
   "execution_count": 48,
   "metadata": {
    "collapsed": false
   },
   "outputs": [
    {
     "data": {
      "text/html": [
       "<div>\n",
       "<table border=\"1\" class=\"dataframe\">\n",
       "  <thead>\n",
       "    <tr style=\"text-align: right;\">\n",
       "      <th></th>\n",
       "      <th>Country</th>\n",
       "      <th>ISO Code</th>\n",
       "      <th>Year(s)</th>\n",
       "      <th>Age</th>\n",
       "      <th>Unmet need Total</th>\n",
       "      <th>Unmet need Spacing</th>\n",
       "      <th>Unmet need Limiting</th>\n",
       "      <th>Source</th>\n",
       "    </tr>\n",
       "  </thead>\n",
       "  <tbody>\n",
       "    <tr>\n",
       "      <th>0</th>\n",
       "      <td>NaN</td>\n",
       "      <td>NaN</td>\n",
       "      <td>NaN</td>\n",
       "      <td>NaN</td>\n",
       "      <td>Total</td>\n",
       "      <td>Spacing</td>\n",
       "      <td>Limiting</td>\n",
       "      <td>NaN</td>\n",
       "    </tr>\n",
       "    <tr>\n",
       "      <th>1</th>\n",
       "      <td>Albania</td>\n",
       "      <td>8.0</td>\n",
       "      <td>2002</td>\n",
       "      <td>15-44</td>\n",
       "      <td>1.3</td>\n",
       "      <td>1</td>\n",
       "      <td>0.3</td>\n",
       "      <td>RHS</td>\n",
       "    </tr>\n",
       "    <tr>\n",
       "      <th>2</th>\n",
       "      <td>Albania</td>\n",
       "      <td>8.0</td>\n",
       "      <td>2008-2009</td>\n",
       "      <td>15-49</td>\n",
       "      <td>12.9</td>\n",
       "      <td>3.5</td>\n",
       "      <td>9.4</td>\n",
       "      <td>DHS</td>\n",
       "    </tr>\n",
       "    <tr>\n",
       "      <th>3</th>\n",
       "      <td>Algeria</td>\n",
       "      <td>12.0</td>\n",
       "      <td>2012</td>\n",
       "      <td>15-49</td>\n",
       "      <td>10.4</td>\n",
       "      <td>5.6</td>\n",
       "      <td>4.8</td>\n",
       "      <td>MICS</td>\n",
       "    </tr>\n",
       "    <tr>\n",
       "      <th>4</th>\n",
       "      <td>Armenia</td>\n",
       "      <td>51.0</td>\n",
       "      <td>2000</td>\n",
       "      <td>15-49</td>\n",
       "      <td>18.1</td>\n",
       "      <td>3.5</td>\n",
       "      <td>14.6</td>\n",
       "      <td>DHS</td>\n",
       "    </tr>\n",
       "  </tbody>\n",
       "</table>\n",
       "</div>"
      ],
      "text/plain": [
       "   Country  ISO Code    Year(s)    Age Unmet need Total Unmet need Spacing  \\\n",
       "0      NaN       NaN        NaN    NaN            Total            Spacing   \n",
       "1  Albania       8.0       2002  15-44              1.3                  1   \n",
       "2  Albania       8.0  2008-2009  15-49             12.9                3.5   \n",
       "3  Algeria      12.0       2012  15-49             10.4                5.6   \n",
       "4  Armenia      51.0       2000  15-49             18.1                3.5   \n",
       "\n",
       "  Unmet need Limiting Source  \n",
       "0            Limiting    NaN  \n",
       "1                 0.3    RHS  \n",
       "2                 9.4    DHS  \n",
       "3                 4.8   MICS  \n",
       "4                14.6    DHS  "
      ]
     },
     "execution_count": 48,
     "metadata": {},
     "output_type": "execute_result"
    }
   ],
   "source": [
    "data.head()"
   ]
  },
  {
   "cell_type": "code",
   "execution_count": 49,
   "metadata": {
    "collapsed": true
   },
   "outputs": [],
   "source": [
    "data = data.ix[1:]"
   ]
  },
  {
   "cell_type": "code",
   "execution_count": 50,
   "metadata": {
    "collapsed": false
   },
   "outputs": [
    {
     "data": {
      "text/html": [
       "<div>\n",
       "<table border=\"1\" class=\"dataframe\">\n",
       "  <thead>\n",
       "    <tr style=\"text-align: right;\">\n",
       "      <th></th>\n",
       "      <th>Country</th>\n",
       "      <th>ISO Code</th>\n",
       "      <th>Year(s)</th>\n",
       "      <th>Age</th>\n",
       "      <th>Unmet need Total</th>\n",
       "      <th>Unmet need Spacing</th>\n",
       "      <th>Unmet need Limiting</th>\n",
       "      <th>Source</th>\n",
       "    </tr>\n",
       "  </thead>\n",
       "  <tbody>\n",
       "    <tr>\n",
       "      <th>1</th>\n",
       "      <td>Albania</td>\n",
       "      <td>8.0</td>\n",
       "      <td>2002</td>\n",
       "      <td>15-44</td>\n",
       "      <td>1.3</td>\n",
       "      <td>1</td>\n",
       "      <td>0.3</td>\n",
       "      <td>RHS</td>\n",
       "    </tr>\n",
       "    <tr>\n",
       "      <th>2</th>\n",
       "      <td>Albania</td>\n",
       "      <td>8.0</td>\n",
       "      <td>2008-2009</td>\n",
       "      <td>15-49</td>\n",
       "      <td>12.9</td>\n",
       "      <td>3.5</td>\n",
       "      <td>9.4</td>\n",
       "      <td>DHS</td>\n",
       "    </tr>\n",
       "    <tr>\n",
       "      <th>3</th>\n",
       "      <td>Algeria</td>\n",
       "      <td>12.0</td>\n",
       "      <td>2012</td>\n",
       "      <td>15-49</td>\n",
       "      <td>10.4</td>\n",
       "      <td>5.6</td>\n",
       "      <td>4.8</td>\n",
       "      <td>MICS</td>\n",
       "    </tr>\n",
       "    <tr>\n",
       "      <th>4</th>\n",
       "      <td>Armenia</td>\n",
       "      <td>51.0</td>\n",
       "      <td>2000</td>\n",
       "      <td>15-49</td>\n",
       "      <td>18.1</td>\n",
       "      <td>3.5</td>\n",
       "      <td>14.6</td>\n",
       "      <td>DHS</td>\n",
       "    </tr>\n",
       "    <tr>\n",
       "      <th>5</th>\n",
       "      <td>Armenia</td>\n",
       "      <td>51.0</td>\n",
       "      <td>2005</td>\n",
       "      <td>15-49</td>\n",
       "      <td>19.3</td>\n",
       "      <td>3.9</td>\n",
       "      <td>15.5</td>\n",
       "      <td>DHS</td>\n",
       "    </tr>\n",
       "  </tbody>\n",
       "</table>\n",
       "</div>"
      ],
      "text/plain": [
       "   Country  ISO Code    Year(s)    Age Unmet need Total Unmet need Spacing  \\\n",
       "1  Albania       8.0       2002  15-44              1.3                  1   \n",
       "2  Albania       8.0  2008-2009  15-49             12.9                3.5   \n",
       "3  Algeria      12.0       2012  15-49             10.4                5.6   \n",
       "4  Armenia      51.0       2000  15-49             18.1                3.5   \n",
       "5  Armenia      51.0       2005  15-49             19.3                3.9   \n",
       "\n",
       "  Unmet need Limiting Source  \n",
       "1                 0.3    RHS  \n",
       "2                 9.4    DHS  \n",
       "3                 4.8   MICS  \n",
       "4                14.6    DHS  \n",
       "5                15.5    DHS  "
      ]
     },
     "execution_count": 50,
     "metadata": {},
     "output_type": "execute_result"
    }
   ],
   "source": [
    "data.head()"
   ]
  },
  {
   "cell_type": "code",
   "execution_count": null,
   "metadata": {
    "collapsed": true
   },
   "outputs": [],
   "source": []
  },
  {
   "cell_type": "code",
   "execution_count": 58,
   "metadata": {
    "collapsed": false
   },
   "outputs": [
    {
     "data": {
      "text/plain": [
       "array(['15-44', '15-49', '21-39', '18-40', '18-44', '20-49', '18-41',\n",
       "       '18-49', '15-45'], dtype=object)"
      ]
     },
     "execution_count": 58,
     "metadata": {},
     "output_type": "execute_result"
    }
   ],
   "source": [
    "data.Age.unique()"
   ]
  },
  {
   "cell_type": "code",
   "execution_count": null,
   "metadata": {
    "collapsed": true
   },
   "outputs": [],
   "source": []
  },
  {
   "cell_type": "code",
   "execution_count": null,
   "metadata": {
    "collapsed": true
   },
   "outputs": [],
   "source": [
    "# ages"
   ]
  },
  {
   "cell_type": "code",
   "execution_count": 64,
   "metadata": {
    "collapsed": true
   },
   "outputs": [],
   "source": [
    "age = data[['Age']].copy()"
   ]
  },
  {
   "cell_type": "code",
   "execution_count": 65,
   "metadata": {
    "collapsed": false
   },
   "outputs": [],
   "source": [
    "age['age'] = age['Age'].map(to_concept_id)"
   ]
  },
  {
   "cell_type": "code",
   "execution_count": 67,
   "metadata": {
    "collapsed": false
   },
   "outputs": [],
   "source": [
    "age.columns = ['name', 'age']"
   ]
  },
  {
   "cell_type": "code",
   "execution_count": 69,
   "metadata": {
    "collapsed": false
   },
   "outputs": [],
   "source": [
    "age = age.drop_duplicates()"
   ]
  },
  {
   "cell_type": "code",
   "execution_count": 70,
   "metadata": {
    "collapsed": true
   },
   "outputs": [],
   "source": [
    "age.to_csv('../ddf--entities--age.csv', index=False)"
   ]
  },
  {
   "cell_type": "code",
   "execution_count": null,
   "metadata": {
    "collapsed": true
   },
   "outputs": [],
   "source": []
  },
  {
   "cell_type": "code",
   "execution_count": 71,
   "metadata": {
    "collapsed": true
   },
   "outputs": [],
   "source": [
    "# country"
   ]
  },
  {
   "cell_type": "code",
   "execution_count": 79,
   "metadata": {
    "collapsed": true
   },
   "outputs": [],
   "source": [
    "country = data[['Country', 'ISO Code']]"
   ]
  },
  {
   "cell_type": "code",
   "execution_count": 80,
   "metadata": {
    "collapsed": false
   },
   "outputs": [],
   "source": [
    "country = country.drop_duplicates().copy()"
   ]
  },
  {
   "cell_type": "code",
   "execution_count": 81,
   "metadata": {
    "collapsed": false
   },
   "outputs": [],
   "source": [
    "country.columns = ['name', 'iso_code']"
   ]
  },
  {
   "cell_type": "code",
   "execution_count": 82,
   "metadata": {
    "collapsed": false
   },
   "outputs": [],
   "source": [
    "country.iso_code = country.iso_code.map(int)"
   ]
  },
  {
   "cell_type": "code",
   "execution_count": 124,
   "metadata": {
    "collapsed": false
   },
   "outputs": [],
   "source": [
    "country.to_csv('../ddf--entities--iso_code.csv', index=False)"
   ]
  },
  {
   "cell_type": "code",
   "execution_count": null,
   "metadata": {
    "collapsed": true
   },
   "outputs": [],
   "source": []
  },
  {
   "cell_type": "code",
   "execution_count": 85,
   "metadata": {
    "collapsed": true
   },
   "outputs": [],
   "source": [
    "# unmet need"
   ]
  },
  {
   "cell_type": "code",
   "execution_count": 89,
   "metadata": {
    "collapsed": true
   },
   "outputs": [],
   "source": [
    "unmet_need = pd.DataFrame([['limiting', 'Unmet need Limiting'],\n",
    "                           ['spacing', 'Unmet need Spacing']\n",
    "                          ], columns=['unmet_need_section', 'name'])"
   ]
  },
  {
   "cell_type": "code",
   "execution_count": 90,
   "metadata": {
    "collapsed": true
   },
   "outputs": [],
   "source": [
    "unmet_need.to_csv('../ddf--entities--unmet_need_section.csv', index=False)"
   ]
  },
  {
   "cell_type": "code",
   "execution_count": 91,
   "metadata": {
    "collapsed": true
   },
   "outputs": [],
   "source": []
  },
  {
   "cell_type": "code",
   "execution_count": 88,
   "metadata": {
    "collapsed": true
   },
   "outputs": [],
   "source": [
    "# concepts"
   ]
  },
  {
   "cell_type": "code",
   "execution_count": 92,
   "metadata": {
    "collapsed": true
   },
   "outputs": [],
   "source": [
    "cdf = pd.DataFrame([['name', 'Name', 'string'],\n",
    "                    ['iso_code', 'ISO Code', 'entity_domain'],\n",
    "                    ['year', 'Year(s)', 'time'],\n",
    "                    ['age', 'Age', 'entity_domain'],\n",
    "                    ['unmet_need_section', 'Unmet need sections', 'entity_domain'],\n",
    "                    ['unmet_need', 'Unmet need', 'measure']\n",
    "                   ], columns=['concept', 'name', 'concept_type'])"
   ]
  },
  {
   "cell_type": "code",
   "execution_count": 93,
   "metadata": {
    "collapsed": true
   },
   "outputs": [],
   "source": [
    "cdf.to_csv('../ddf--conceptps.csv', index=False)"
   ]
  },
  {
   "cell_type": "code",
   "execution_count": null,
   "metadata": {
    "collapsed": true
   },
   "outputs": [],
   "source": []
  },
  {
   "cell_type": "code",
   "execution_count": 94,
   "metadata": {
    "collapsed": true
   },
   "outputs": [],
   "source": [
    "# datapoints"
   ]
  },
  {
   "cell_type": "code",
   "execution_count": 99,
   "metadata": {
    "collapsed": true
   },
   "outputs": [],
   "source": [
    "dps = data[['ISO Code', 'Year(s)', 'Age', 'Unmet need Total',\n",
    "            'Unmet need Spacing', 'Unmet need Limiting']].copy()"
   ]
  },
  {
   "cell_type": "code",
   "execution_count": 100,
   "metadata": {
    "collapsed": true
   },
   "outputs": [],
   "source": [
    "dps.columns = ['iso_code', 'year', 'age', 'total', 'spacing', 'limiting']"
   ]
  },
  {
   "cell_type": "code",
   "execution_count": 101,
   "metadata": {
    "collapsed": true
   },
   "outputs": [],
   "source": [
    "dps.iso_code = dps.iso_code.map(int)\n",
    "dps.age = dps.age.map(to_concept_id)"
   ]
  },
  {
   "cell_type": "code",
   "execution_count": 102,
   "metadata": {
    "collapsed": true
   },
   "outputs": [],
   "source": [
    "dps = dps.set_index(['iso_code', 'year', 'age'])"
   ]
  },
  {
   "cell_type": "code",
   "execution_count": 106,
   "metadata": {
    "collapsed": false
   },
   "outputs": [],
   "source": [
    "total = dps.total.copy()"
   ]
  },
  {
   "cell_type": "code",
   "execution_count": 108,
   "metadata": {
    "collapsed": false
   },
   "outputs": [],
   "source": [
    "total.name = 'unmet_need'"
   ]
  },
  {
   "cell_type": "code",
   "execution_count": 110,
   "metadata": {
    "collapsed": false
   },
   "outputs": [],
   "source": [
    "total.dropna().reset_index().to_csv('../ddf--datapoints--unmet_need--by--iso_code--age--year.csv', index=False)"
   ]
  },
  {
   "cell_type": "code",
   "execution_count": null,
   "metadata": {
    "collapsed": true
   },
   "outputs": [],
   "source": []
  },
  {
   "cell_type": "code",
   "execution_count": 111,
   "metadata": {
    "collapsed": true
   },
   "outputs": [],
   "source": [
    "sections = dps[['spacing', 'limiting']].copy()"
   ]
  },
  {
   "cell_type": "code",
   "execution_count": 116,
   "metadata": {
    "collapsed": false
   },
   "outputs": [],
   "source": [
    "sections = sections.stack().reset_index()"
   ]
  },
  {
   "cell_type": "code",
   "execution_count": 119,
   "metadata": {
    "collapsed": false
   },
   "outputs": [],
   "source": [
    "sections.columns = ['iso_code', 'year', 'age', 'unmet_need_section', 'unmet_need']"
   ]
  },
  {
   "cell_type": "code",
   "execution_count": 122,
   "metadata": {
    "collapsed": false
   },
   "outputs": [],
   "source": [
    "sections.to_csv('../ddf--datapoints--unmet_need--by--iso_code--age--unmet_need_section--year.csv', index=False)"
   ]
  },
  {
   "cell_type": "code",
   "execution_count": null,
   "metadata": {
    "collapsed": true
   },
   "outputs": [],
   "source": []
  },
  {
   "cell_type": "code",
   "execution_count": 125,
   "metadata": {
    "collapsed": false
   },
   "outputs": [
    {
     "data": {
      "text/html": [
       "<div>\n",
       "<table border=\"1\" class=\"dataframe\">\n",
       "  <thead>\n",
       "    <tr style=\"text-align: right;\">\n",
       "      <th></th>\n",
       "      <th>key</th>\n",
       "      <th>value</th>\n",
       "      <th>file</th>\n",
       "    </tr>\n",
       "  </thead>\n",
       "  <tbody>\n",
       "    <tr>\n",
       "      <th>0</th>\n",
       "      <td>concept</td>\n",
       "      <td>name</td>\n",
       "      <td>ddf--conceptps.csv</td>\n",
       "    </tr>\n",
       "    <tr>\n",
       "      <th>1</th>\n",
       "      <td>concept</td>\n",
       "      <td>concept_type</td>\n",
       "      <td>ddf--conceptps.csv</td>\n",
       "    </tr>\n",
       "    <tr>\n",
       "      <th>0</th>\n",
       "      <td>iso_code,age,unmet_need_section,year</td>\n",
       "      <td>unmet_need</td>\n",
       "      <td>ddf--datapoints--unmet_need--by--iso_code--age...</td>\n",
       "    </tr>\n",
       "    <tr>\n",
       "      <th>0</th>\n",
       "      <td>iso_code,age,year</td>\n",
       "      <td>unmet_need</td>\n",
       "      <td>ddf--datapoints--unmet_need--by--iso_code--age...</td>\n",
       "    </tr>\n",
       "    <tr>\n",
       "      <th>0</th>\n",
       "      <td>age</td>\n",
       "      <td>name</td>\n",
       "      <td>ddf--entities--age.csv</td>\n",
       "    </tr>\n",
       "    <tr>\n",
       "      <th>0</th>\n",
       "      <td>iso_code</td>\n",
       "      <td>name</td>\n",
       "      <td>ddf--entities--iso_code.csv</td>\n",
       "    </tr>\n",
       "    <tr>\n",
       "      <th>0</th>\n",
       "      <td>unmet_need_section</td>\n",
       "      <td>name</td>\n",
       "      <td>ddf--entities--unmet_need_section.csv</td>\n",
       "    </tr>\n",
       "  </tbody>\n",
       "</table>\n",
       "</div>"
      ],
      "text/plain": [
       "                                    key         value  \\\n",
       "0                               concept          name   \n",
       "1                               concept  concept_type   \n",
       "0  iso_code,age,unmet_need_section,year    unmet_need   \n",
       "0                     iso_code,age,year    unmet_need   \n",
       "0                                   age          name   \n",
       "0                              iso_code          name   \n",
       "0                    unmet_need_section          name   \n",
       "\n",
       "                                                file  \n",
       "0                                 ddf--conceptps.csv  \n",
       "1                                 ddf--conceptps.csv  \n",
       "0  ddf--datapoints--unmet_need--by--iso_code--age...  \n",
       "0  ddf--datapoints--unmet_need--by--iso_code--age...  \n",
       "0                             ddf--entities--age.csv  \n",
       "0                        ddf--entities--iso_code.csv  \n",
       "0              ddf--entities--unmet_need_section.csv  "
      ]
     },
     "execution_count": 125,
     "metadata": {},
     "output_type": "execute_result"
    }
   ],
   "source": [
    "create_index_file('../')"
   ]
  },
  {
   "cell_type": "code",
   "execution_count": null,
   "metadata": {
    "collapsed": true
   },
   "outputs": [],
   "source": []
  }
 ],
 "metadata": {
  "kernelspec": {
   "display_name": "Python 3",
   "language": "python",
   "name": "python3"
  },
  "language_info": {
   "codemirror_mode": {
    "name": "ipython",
    "version": 3
   },
   "file_extension": ".py",
   "mimetype": "text/x-python",
   "name": "python",
   "nbconvert_exporter": "python",
   "pygments_lexer": "ipython3",
   "version": "3.5.2"
  }
 },
 "nbformat": 4,
 "nbformat_minor": 0
}
